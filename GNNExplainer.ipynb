{
 "cells": [
  {
   "cell_type": "code",
   "execution_count": 1,
   "metadata": {},
   "outputs": [
    {
     "name": "stdout",
     "output_type": "stream",
     "text": [
      "=== CUDA 可用性測試 ===\n",
      "PyTorch版本: 2.4.1+cu124\n",
      "CUDA是否可用: True\n",
      "CUDA版本: 12.4\n",
      "當前CUDA設備: 0\n",
      "設備名稱: NVIDIA GeForce RTX 2060\n",
      "設備數量: 1\n",
      "設備屬性: _CudaDeviceProperties(name='NVIDIA GeForce RTX 2060', major=7, minor=5, total_memory=6143MB, multi_processor_count=30)\n",
      "\n",
      "=== 矩陣乘法性能測試 (大小: 1000x1000) ===\n",
      "CPU平均時間: 0.0066 秒\n",
      "GPU平均時間: 0.0008 秒\n",
      "GPU加速比: 8.24x\n"
     ]
    }
   ],
   "source": [
    "from cuda_test import test_cuda_availability, matrix_multiplication_test\n",
    "test_cuda_availability()\n",
    "matrix_multiplication_test(size=1000, runs=5)"
   ]
  },
  {
   "cell_type": "code",
   "execution_count": 2,
   "metadata": {},
   "outputs": [
    {
     "name": "stderr",
     "output_type": "stream",
     "text": [
      "c:\\Users\\Dinosaur\\AppData\\Local\\Programs\\Python\\Python311\\Lib\\site-packages\\tqdm\\auto.py:21: TqdmWarning: IProgress not found. Please update jupyter and ipywidgets. See https://ipywidgets.readthedocs.io/en/stable/user_install.html\n",
      "  from .autonotebook import tqdm as notebook_tqdm\n"
     ]
    }
   ],
   "source": [
    "import torch\n",
    "import torch.nn.functional as F\n",
    "from torch_geometric.nn import SAGEConv\n",
    "from torch_geometric.explain import Explainer, GNNExplainer\n",
    "import matplotlib.pyplot as plt\n",
    "import networkx as nx"
   ]
  },
  {
   "cell_type": "code",
   "execution_count": 3,
   "metadata": {},
   "outputs": [],
   "source": [
    "class SWaTGraphSAGE(torch.nn.Module):\n",
    "    def __init__(self, in_channels, hidden_channels, out_channels, num_layers=2):\n",
    "        super(SWaTGraphSAGE, self).__init__()\n",
    "        self.num_layers = num_layers\n",
    "        \n",
    "        self.convs = torch.nn.ModuleList()\n",
    "        self.convs.append(SAGEConv(in_channels, hidden_channels))\n",
    "        for _ in range(num_layers - 2):\n",
    "            self.convs.append(SAGEConv(hidden_channels, hidden_channels))\n",
    "        self.convs.append(SAGEConv(hidden_channels, out_channels))\n",
    "        \n",
    "        self.dropout = torch.nn.Dropout(0.2)\n",
    "        \n",
    "    def forward(self, x, edge_index):\n",
    "        for i in range(self.num_layers - 1):\n",
    "            x = self.convs[i](x, edge_index)\n",
    "            x = F.relu(x)\n",
    "            x = self.dropout(x)\n",
    "        x = self.convs[-1](x, edge_index)\n",
    "        return torch.sigmoid(x)"
   ]
  },
  {
   "cell_type": "code",
   "execution_count": 4,
   "metadata": {},
   "outputs": [
    {
     "name": "stderr",
     "output_type": "stream",
     "text": [
      "C:\\Users\\Dinosaur\\AppData\\Local\\Temp\\ipykernel_4996\\757330422.py:8: FutureWarning: You are using `torch.load` with `weights_only=False` (the current default value), which uses the default pickle module implicitly. It is possible to construct malicious pickle data which will execute arbitrary code during unpickling (See https://github.com/pytorch/pytorch/blob/main/SECURITY.md#untrusted-models for more details). In a future release, the default value for `weights_only` will be flipped to `True`. This limits the functions that could be executed during unpickling. Arbitrary objects will no longer be allowed to be loaded via this mode unless they are explicitly allowlisted by the user via `torch.serialization.add_safe_globals`. We recommend you start setting `weights_only=True` for any use case where you don't have full control of the loaded file. Please open an issue on GitHub for any issues related to this experimental feature.\n",
      "  checkpoint = torch.load('swat_graphsage_model.pt')\n"
     ]
    },
    {
     "data": {
      "text/plain": [
       "SWaTGraphSAGE(\n",
       "  (convs): ModuleList(\n",
       "    (0): SAGEConv(51, 64, aggr=mean)\n",
       "    (1): SAGEConv(64, 1, aggr=mean)\n",
       "  )\n",
       "  (dropout): Dropout(p=0.2, inplace=False)\n",
       ")"
      ]
     },
     "execution_count": 4,
     "metadata": {},
     "output_type": "execute_result"
    }
   ],
   "source": [
    "# Initialize the model and load pre-trained weights\n",
    "in_channels = 51  # Example input feature size, adjust as per your dataset\n",
    "hidden_channels = 64\n",
    "out_channels = 1\n",
    "num_layers = 2\n",
    "\n",
    "model = SWaTGraphSAGE(in_channels, hidden_channels, out_channels, num_layers)\n",
    "checkpoint = torch.load('swat_graphsage_model.pt')\n",
    "model.load_state_dict(checkpoint['model_state_dict'])\n",
    "#model.load_state_dict(torch.load('swat_graphsage_model.pt'))\n",
    "model.eval()\n"
   ]
  },
  {
   "cell_type": "markdown",
   "metadata": {},
   "source": []
  },
  {
   "cell_type": "code",
   "execution_count": 5,
   "metadata": {},
   "outputs": [
    {
     "name": "stdout",
     "output_type": "stream",
     "text": [
      "x: tensor([[0.0000, 0.0053, 0.5000,  ..., 0.0000, 0.0000, 0.0000],\n",
      "        [0.0000, 0.0054, 0.5000,  ..., 0.0000, 0.0000, 0.0000],\n",
      "        [0.0000, 0.0055, 0.5000,  ..., 0.0000, 0.0000, 0.0000],\n",
      "        ...,\n",
      "        [0.9172, 0.4500, 1.0000,  ..., 0.0000, 0.0000, 0.0000],\n",
      "        [0.9134, 0.4501, 1.0000,  ..., 0.0000, 0.0000, 0.0000],\n",
      "        [0.9064, 0.4506, 1.0000,  ..., 0.0000, 0.0000, 0.0000]])\n",
      "edge_index: tensor([[ 0,  1,  2,  0,  3,  1,  4,  0,  5,  6,  6,  7,  8,  5,  9,  8, 10,  8,\n",
      "         11,  6, 12,  7, 13,  8, 14,  6, 15,  7, 16, 17, 17, 18, 19, 17, 20, 18,\n",
      "         21, 17, 22, 18, 23, 17, 24, 18, 25, 26, 27, 28, 29, 27, 30, 28, 31, 27,\n",
      "         32, 28, 33, 27, 34, 35, 35, 36, 36, 37, 38, 34, 39, 35, 40, 36, 41, 37,\n",
      "         42, 38, 43, 39, 44, 40, 45, 41, 46, 40, 47, 48, 48, 49, 49, 50,  1,  5,\n",
      "          7, 16, 18, 25, 27, 34, 36, 47, 18,  8, 25, 16, 40, 25, 14, 18, 15, 40],\n",
      "        [ 1,  0,  0,  2,  1,  3,  0,  4,  6,  5,  7,  6,  5,  8,  8,  9,  8, 10,\n",
      "          6, 11,  7, 12,  8, 13,  6, 14,  7, 15, 17, 16, 18, 17, 17, 19, 18, 20,\n",
      "         17, 21, 18, 22, 17, 23, 18, 24, 26, 25, 28, 27, 27, 29, 28, 30, 27, 31,\n",
      "         28, 32, 27, 33, 35, 34, 36, 35, 37, 36, 34, 38, 35, 39, 36, 40, 37, 41,\n",
      "         38, 42, 39, 43, 40, 44, 41, 45, 40, 46, 48, 47, 49, 48, 50, 49,  5,  1,\n",
      "         16,  7, 25, 18, 34, 27, 47, 36,  8, 18, 16, 25, 25, 40, 18, 14, 40, 15]])\n"
     ]
    }
   ],
   "source": [
    "x = checkpoint['x']\n",
    "edge_index = checkpoint['edge_index']\n",
    "print(\"x:\",x)\n",
    "print(\"edge_index:\",edge_index)"
   ]
  },
  {
   "cell_type": "code",
   "execution_count": 6,
   "metadata": {},
   "outputs": [],
   "source": [
    "# Initialize the Explainer\n",
    "explainer = Explainer(\n",
    "    model=model,\n",
    "    algorithm=GNNExplainer(epochs=200),\n",
    "    explanation_type='model',\n",
    "    node_mask_type='attributes',\n",
    "    edge_mask_type='object',\n",
    "    model_config=dict(\n",
    "        mode='binary_classification',\n",
    "        task_level='node',\n",
    "        return_type='raw',\n",
    "    ),\n",
    ")"
   ]
  },
  {
   "cell_type": "code",
   "execution_count": 7,
   "metadata": {},
   "outputs": [
    {
     "name": "stdout",
     "output_type": "stream",
     "text": [
      "Generated explanations: ['edge_mask', 'node_mask']\n"
     ]
    }
   ],
   "source": [
    "# Explain a specific node (e.g., node index 10)\n",
    "\n",
    "\n",
    "node_index = 20\n",
    "explanation = explainer(x,edge_index, index=node_index)\n",
    "\n",
    "# Print available explanations\n",
    "print(f'Generated explanations: {explanation.available_explanations}')"
   ]
  },
  {
   "cell_type": "code",
   "execution_count": 8,
   "metadata": {},
   "outputs": [
    {
     "name": "stdout",
     "output_type": "stream",
     "text": [
      "Feature importance plot saved to swat_feature_importance.png\n"
     ]
    }
   ],
   "source": [
    "# Visualize feature importance\n",
    "feature_importance_path = 'swat_feature_importance.png'\n",
    "explanation.visualize_feature_importance(feature_importance_path, top_k=10)\n",
    "print(f'Feature importance plot saved to {feature_importance_path}')"
   ]
  },
  {
   "cell_type": "code",
   "execution_count": 9,
   "metadata": {},
   "outputs": [
    {
     "name": "stdout",
     "output_type": "stream",
     "text": [
      "Subgraph visualization saved to swat_subgraph.pdf\n"
     ]
    }
   ],
   "source": [
    "# Visualize the subgraph\n",
    "subgraph_path = 'swat_subgraph.pdf'\n",
    "explanation.visualize_graph(subgraph_path)\n",
    "print(f'Subgraph visualization saved to {subgraph_path}')"
   ]
  }
 ],
 "metadata": {
  "kernelspec": {
   "display_name": "Python 3",
   "language": "python",
   "name": "python3"
  },
  "language_info": {
   "codemirror_mode": {
    "name": "ipython",
    "version": 3
   },
   "file_extension": ".py",
   "mimetype": "text/x-python",
   "name": "python",
   "nbconvert_exporter": "python",
   "pygments_lexer": "ipython3",
   "version": "3.11.7"
  }
 },
 "nbformat": 4,
 "nbformat_minor": 2
}
