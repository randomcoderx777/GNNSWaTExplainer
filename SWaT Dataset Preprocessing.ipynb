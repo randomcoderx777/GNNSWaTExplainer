{
 "cells": [
  {
   "cell_type": "code",
   "execution_count": 1,
   "metadata": {},
   "outputs": [],
   "source": [
    "import pandas as pd\n",
    "import numpy as np\n",
    "from sklearn.preprocessing import MinMaxScaler\n",
    "import os"
   ]
  },
  {
   "cell_type": "code",
   "execution_count": 2,
   "metadata": {},
   "outputs": [],
   "source": [
    "def process_swat_data(raw_file, output_file, is_attack=False):\n",
    "    try:\n",
    "        if is_attack:\n",
    "            df = pd.read_csv(raw_file)\n",
    "        else:\n",
    "            df = pd.read_csv(raw_file, skiprows=1)\n",
    "\n",
    "        print(f\"\\ndf.shape: {df.shape}\")\n",
    "        print(\"df.columns:\", df.columns.tolist())\n",
    "        \n",
    "        timestamp_col = df.columns[0]\n",
    "        df = df.rename(columns={timestamp_col: 'Timestamp'})\n",
    "        \n",
    "        df['Timestamp'] = df['Timestamp'].astype(str).str.strip()\n",
    "        print(\"\\nTimestamp:\")\n",
    "        print(df['Timestamp'].head())\n",
    "        \n",
    "        df['Timestamp'] = pd.to_datetime(df['Timestamp'], format='%d/%m/%Y %I:%M:%S %p')\n",
    "        \n",
    "        for col in df.columns:\n",
    "            if col != 'Timestamp' and col != 'Normal/Attack':\n",
    "                df[col] = pd.to_numeric(df[col], errors='coerce')\n",
    "        \n",
    "        df = df.fillna(method='ffill').fillna(method='bfill')\n",
    "        \n",
    "        numeric_cols = df.select_dtypes(include=[np.number]).columns\n",
    "        if len(numeric_cols) > 0:\n",
    "            scaler = MinMaxScaler()\n",
    "            df[numeric_cols] = scaler.fit_transform(df[numeric_cols])\n",
    "        \n",
    "        df.to_csv(output_file, index=False)\n",
    "        print(f\"Final.df.shape: {df.shape}\")\n",
    "        \n",
    "        return df\n",
    "        \n",
    "    except Exception as e:\n",
    "        if 'df' in locals():\n",
    "            print(\"\\nDataInfo:\")\n",
    "            print(df.info())\n",
    "        raise"
   ]
  },
  {
   "cell_type": "code",
   "execution_count": 3,
   "metadata": {},
   "outputs": [],
   "source": [
    "def prepare_swat_dataset(normal_raw, attack_raw, output_dir):\n",
    "    try:\n",
    "        os.makedirs(output_dir, exist_ok=True)\n",
    "        normal_df = process_swat_data(\n",
    "            normal_raw, \n",
    "            os.path.join(output_dir, 'SWaT_normal.csv'),\n",
    "            is_attack=False\n",
    "        )\n",
    "        \n",
    "        attack_df = process_swat_data(\n",
    "            attack_raw, \n",
    "            os.path.join(output_dir, 'SWaT_attack.csv'),\n",
    "            is_attack=True\n",
    "        )\n",
    "        \n",
    "        print(f\"normal_df.shape: {normal_df.shape}\")\n",
    "        print(f\"attack_df.shape: {attack_df.shape}\")\n",
    "        \n",
    "        return normal_df, attack_df\n",
    "        \n",
    "    except Exception as e:\n",
    "        print(f\"\\nPrepare.Error: {str(e)}\")\n",
    "        raise"
   ]
  },
  {
   "cell_type": "code",
   "execution_count": 4,
   "metadata": {},
   "outputs": [
    {
     "name": "stdout",
     "output_type": "stream",
     "text": [
      "\n",
      "df.shape: (495000, 53)\n",
      "df.columns: [' Timestamp', 'FIT101', 'LIT101', 'MV101', 'P101', 'P102', 'AIT201', 'AIT202', 'AIT203', 'FIT201', 'MV201', 'P201', 'P202', 'P203', 'P204', 'P205', 'P206', 'DPIT301', 'FIT301', 'LIT301', 'MV301', 'MV302', 'MV303', 'MV304', 'P301', 'P302', 'AIT401', 'AIT402', 'FIT401', 'LIT401', 'P401', 'P402', 'P403', 'P404', 'UV401', 'AIT501', 'AIT502', 'AIT503', 'AIT504', 'FIT501', 'FIT502', 'FIT503', 'FIT504', 'P501', 'P502', 'PIT501', 'PIT502', 'PIT503', 'FIT601', 'P601', 'P602', 'P603', 'Normal/Attack']\n",
      "\n",
      "Timestamp:\n",
      "0    22/12/2015 4:30:00 PM\n",
      "1    22/12/2015 4:30:01 PM\n",
      "2    22/12/2015 4:30:02 PM\n",
      "3    22/12/2015 4:30:03 PM\n",
      "4    22/12/2015 4:30:04 PM\n",
      "Name: Timestamp, dtype: object\n"
     ]
    },
    {
     "name": "stderr",
     "output_type": "stream",
     "text": [
      "C:\\Users\\Dinosaur\\AppData\\Local\\Temp\\ipykernel_19152\\198438661.py:24: FutureWarning: DataFrame.fillna with 'method' is deprecated and will raise in a future version. Use obj.ffill() or obj.bfill() instead.\n",
      "  df = df.fillna(method='ffill').fillna(method='bfill')\n"
     ]
    },
    {
     "name": "stdout",
     "output_type": "stream",
     "text": [
      "Final.df.shape: (495000, 53)\n",
      "\n",
      "df.shape: (449919, 53)\n",
      "df.columns: [' Timestamp', 'FIT101', 'LIT101', ' MV101', 'P101', 'P102', ' AIT201', 'AIT202', 'AIT203', 'FIT201', ' MV201', ' P201', ' P202', 'P203', ' P204', 'P205', 'P206', 'DPIT301', 'FIT301', 'LIT301', 'MV301', 'MV302', ' MV303', 'MV304', 'P301', 'P302', 'AIT401', 'AIT402', 'FIT401', 'LIT401', 'P401', 'P402', 'P403', 'P404', 'UV401', 'AIT501', 'AIT502', 'AIT503', 'AIT504', 'FIT501', 'FIT502', 'FIT503', 'FIT504', 'P501', 'P502', 'PIT501', 'PIT502', 'PIT503', 'FIT601', 'P601', 'P602', 'P603', 'Normal/Attack']\n",
      "\n",
      "Timestamp:\n",
      "0    28/12/2015 10:00:00 AM\n",
      "1    28/12/2015 10:00:01 AM\n",
      "2    28/12/2015 10:00:02 AM\n",
      "3    28/12/2015 10:00:03 AM\n",
      "4    28/12/2015 10:00:04 AM\n",
      "Name: Timestamp, dtype: object\n"
     ]
    },
    {
     "name": "stderr",
     "output_type": "stream",
     "text": [
      "C:\\Users\\Dinosaur\\AppData\\Local\\Temp\\ipykernel_19152\\198438661.py:24: FutureWarning: DataFrame.fillna with 'method' is deprecated and will raise in a future version. Use obj.ffill() or obj.bfill() instead.\n",
      "  df = df.fillna(method='ffill').fillna(method='bfill')\n"
     ]
    },
    {
     "name": "stdout",
     "output_type": "stream",
     "text": [
      "Final.df.shape: (449919, 53)\n",
      "normal_df.shape: (495000, 53)\n",
      "attack_df.shape: (449919, 53)\n"
     ]
    }
   ],
   "source": [
    "if __name__ == \"__main__\":\n",
    "    normal_df, attack_df = prepare_swat_dataset(\n",
    "        normal_raw='SWaT_Dataset_Normal_v1.csv',\n",
    "        attack_raw='SWaT_Dataset_Attack_v0.csv',\n",
    "        output_dir='processed_data'\n",
    "    )"
   ]
  }
 ],
 "metadata": {
  "kernelspec": {
   "display_name": "Python 3",
   "language": "python",
   "name": "python3"
  },
  "language_info": {
   "codemirror_mode": {
    "name": "ipython",
    "version": 3
   },
   "file_extension": ".py",
   "mimetype": "text/x-python",
   "name": "python",
   "nbconvert_exporter": "python",
   "pygments_lexer": "ipython3",
   "version": "3.11.7"
  }
 },
 "nbformat": 4,
 "nbformat_minor": 2
}
