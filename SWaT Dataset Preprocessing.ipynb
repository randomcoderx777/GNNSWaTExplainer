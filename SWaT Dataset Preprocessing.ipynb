{
 "cells": [
  {
   "cell_type": "code",
   "execution_count": 1,
   "metadata": {},
   "outputs": [],
   "source": [
    "import pandas as pd\n",
    "import numpy as np\n",
    "from sklearn.preprocessing import MinMaxScaler\n",
    "import os"
   ]
  },
  {
   "cell_type": "code",
   "execution_count": 2,
   "metadata": {},
   "outputs": [],
   "source": [
    "def process_swat_data(raw_file, output_file, is_attack=False):\n",
    "    \"\"\"\n",
    "    處理 SWaT 原始數據並保存為 CSV\n",
    "    \"\"\"\n",
    "    try:\n",
    "        # 根據是否為攻擊數據選擇不同的讀取方式\n",
    "        if is_attack:\n",
    "            # 攻擊數據只有一行標題\n",
    "            df = pd.read_csv(raw_file)\n",
    "        else:\n",
    "            # 正常數據有兩行標題，使用第二行作為列名\n",
    "            df = pd.read_csv(raw_file, skiprows=1)\n",
    "\n",
    "        print(f\"\\n讀取的資料形狀: {df.shape}\")\n",
    "        print(\"列名:\", df.columns.tolist())\n",
    "        \n",
    "        # 確保時間戳列名正確\n",
    "        timestamp_col = df.columns[0]\n",
    "        df = df.rename(columns={timestamp_col: 'Timestamp'})\n",
    "        \n",
    "        # 清理時間戳數據\n",
    "        df['Timestamp'] = df['Timestamp'].astype(str).str.strip()\n",
    "        print(\"\\n時間戳示例:\")\n",
    "        print(df['Timestamp'].head())\n",
    "        \n",
    "        # 轉換時間戳\n",
    "        df['Timestamp'] = pd.to_datetime(df['Timestamp'], format='%d/%m/%Y %I:%M:%S %p')\n",
    "        \n",
    "        # 將所有其他列轉換為數值型\n",
    "        for col in df.columns:\n",
    "            if col != 'Timestamp' and col != 'Normal/Attack':\n",
    "                df[col] = pd.to_numeric(df[col], errors='coerce')\n",
    "        \n",
    "        # 處理缺失值\n",
    "        df = df.fillna(method='ffill').fillna(method='bfill')\n",
    "        \n",
    "        # 標準化數值列\n",
    "        numeric_cols = df.select_dtypes(include=[np.number]).columns\n",
    "        if len(numeric_cols) > 0:\n",
    "            scaler = MinMaxScaler()\n",
    "            df[numeric_cols] = scaler.fit_transform(df[numeric_cols])\n",
    "        \n",
    "        # 保存處理後的數據\n",
    "        df.to_csv(output_file, index=False)\n",
    "        print(f\"\\n已保存處理後的資料到 {output_file}\")\n",
    "        print(f\"最終資料形狀: {df.shape}\")\n",
    "        \n",
    "        return df\n",
    "        \n",
    "    except Exception as e:\n",
    "        print(f\"\\n處理文件時出錯 {raw_file}:\")\n",
    "        print(f\"錯誤詳情: {str(e)}\")\n",
    "        if 'df' in locals():\n",
    "            print(\"\\n資料資訊:\")\n",
    "            print(df.info())\n",
    "        raise"
   ]
  },
  {
   "cell_type": "code",
   "execution_count": 3,
   "metadata": {},
   "outputs": [],
   "source": [
    "def prepare_swat_dataset(normal_raw, attack_raw, output_dir):\n",
    "    \"\"\"\n",
    "    準備完整的 SWaT 數據集\n",
    "    \"\"\"\n",
    "    try:\n",
    "        os.makedirs(output_dir, exist_ok=True)\n",
    "        \n",
    "        print(\"\\n處理正常運行資料...\")\n",
    "        normal_df = process_swat_data(\n",
    "            normal_raw, \n",
    "            os.path.join(output_dir, 'SWaT_normal.csv'),\n",
    "            is_attack=False\n",
    "        )\n",
    "        \n",
    "        print(\"\\n處理攻擊資料...\")\n",
    "        attack_df = process_swat_data(\n",
    "            attack_raw, \n",
    "            os.path.join(output_dir, 'SWaT_attack.csv'),\n",
    "            is_attack=True\n",
    "        )\n",
    "        \n",
    "        print(\"\\n資料集準備完成!\")\n",
    "        print(f\"正常資料形狀: {normal_df.shape}\")\n",
    "        print(f\"攻擊資料形狀: {attack_df.shape}\")\n",
    "        \n",
    "        return normal_df, attack_df\n",
    "        \n",
    "    except Exception as e:\n",
    "        print(f\"\\n準備數據集時出錯: {str(e)}\")\n",
    "        raise"
   ]
  },
  {
   "cell_type": "code",
   "execution_count": 4,
   "metadata": {},
   "outputs": [
    {
     "name": "stdout",
     "output_type": "stream",
     "text": [
      "\n",
      "處理正常運行資料...\n",
      "\n",
      "讀取的資料形狀: (495000, 53)\n",
      "列名: [' Timestamp', 'FIT101', 'LIT101', 'MV101', 'P101', 'P102', 'AIT201', 'AIT202', 'AIT203', 'FIT201', 'MV201', 'P201', 'P202', 'P203', 'P204', 'P205', 'P206', 'DPIT301', 'FIT301', 'LIT301', 'MV301', 'MV302', 'MV303', 'MV304', 'P301', 'P302', 'AIT401', 'AIT402', 'FIT401', 'LIT401', 'P401', 'P402', 'P403', 'P404', 'UV401', 'AIT501', 'AIT502', 'AIT503', 'AIT504', 'FIT501', 'FIT502', 'FIT503', 'FIT504', 'P501', 'P502', 'PIT501', 'PIT502', 'PIT503', 'FIT601', 'P601', 'P602', 'P603', 'Normal/Attack']\n",
      "\n",
      "時間戳示例:\n",
      "0    22/12/2015 4:30:00 PM\n",
      "1    22/12/2015 4:30:01 PM\n",
      "2    22/12/2015 4:30:02 PM\n",
      "3    22/12/2015 4:30:03 PM\n",
      "4    22/12/2015 4:30:04 PM\n",
      "Name: Timestamp, dtype: object\n"
     ]
    },
    {
     "name": "stderr",
     "output_type": "stream",
     "text": [
      "C:\\Users\\Dinosaur\\AppData\\Local\\Temp\\ipykernel_12036\\2645419572.py:35: FutureWarning: DataFrame.fillna with 'method' is deprecated and will raise in a future version. Use obj.ffill() or obj.bfill() instead.\n",
      "  df = df.fillna(method='ffill').fillna(method='bfill')\n"
     ]
    },
    {
     "name": "stdout",
     "output_type": "stream",
     "text": [
      "\n",
      "已保存處理後的資料到 processed_data\\normal.csv\n",
      "最終資料形狀: (495000, 53)\n",
      "\n",
      "處理攻擊資料...\n",
      "\n",
      "讀取的資料形狀: (449919, 53)\n",
      "列名: [' Timestamp', 'FIT101', 'LIT101', ' MV101', 'P101', 'P102', ' AIT201', 'AIT202', 'AIT203', 'FIT201', ' MV201', ' P201', ' P202', 'P203', ' P204', 'P205', 'P206', 'DPIT301', 'FIT301', 'LIT301', 'MV301', 'MV302', ' MV303', 'MV304', 'P301', 'P302', 'AIT401', 'AIT402', 'FIT401', 'LIT401', 'P401', 'P402', 'P403', 'P404', 'UV401', 'AIT501', 'AIT502', 'AIT503', 'AIT504', 'FIT501', 'FIT502', 'FIT503', 'FIT504', 'P501', 'P502', 'PIT501', 'PIT502', 'PIT503', 'FIT601', 'P601', 'P602', 'P603', 'Normal/Attack']\n",
      "\n",
      "時間戳示例:\n",
      "0    28/12/2015 10:00:00 AM\n",
      "1    28/12/2015 10:00:01 AM\n",
      "2    28/12/2015 10:00:02 AM\n",
      "3    28/12/2015 10:00:03 AM\n",
      "4    28/12/2015 10:00:04 AM\n",
      "Name: Timestamp, dtype: object\n"
     ]
    },
    {
     "name": "stderr",
     "output_type": "stream",
     "text": [
      "C:\\Users\\Dinosaur\\AppData\\Local\\Temp\\ipykernel_12036\\2645419572.py:35: FutureWarning: DataFrame.fillna with 'method' is deprecated and will raise in a future version. Use obj.ffill() or obj.bfill() instead.\n",
      "  df = df.fillna(method='ffill').fillna(method='bfill')\n"
     ]
    },
    {
     "name": "stdout",
     "output_type": "stream",
     "text": [
      "\n",
      "已保存處理後的資料到 processed_data\\attack.csv\n",
      "最終資料形狀: (449919, 53)\n",
      "\n",
      "資料集準備完成!\n",
      "正常資料形狀: (495000, 53)\n",
      "攻擊資料形狀: (449919, 53)\n"
     ]
    }
   ],
   "source": [
    "if __name__ == \"__main__\":\n",
    "    normal_df, attack_df = prepare_swat_dataset(\n",
    "        normal_raw='SWaT_Dataset_Normal_v1.csv',\n",
    "        attack_raw='SWaT_Dataset_Attack_v0.csv',\n",
    "        output_dir='processed_data'\n",
    "    )"
   ]
  }
 ],
 "metadata": {
  "kernelspec": {
   "display_name": "Python 3",
   "language": "python",
   "name": "python3"
  },
  "language_info": {
   "codemirror_mode": {
    "name": "ipython",
    "version": 3
   },
   "file_extension": ".py",
   "mimetype": "text/x-python",
   "name": "python",
   "nbconvert_exporter": "python",
   "pygments_lexer": "ipython3",
   "version": "3.11.7"
  }
 },
 "nbformat": 4,
 "nbformat_minor": 2
}
